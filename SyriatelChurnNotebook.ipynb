{
 "cells": [
  {
   "cell_type": "markdown",
   "metadata": {},
   "source": [
    "# Predicting Churn for SyriaTel Customers"
   ]
  },
  {
   "cell_type": "markdown",
   "metadata": {},
   "source": [
    "Authors: John Sheehan & Tom Chapman"
   ]
  },
  {
   "cell_type": "markdown",
   "metadata": {},
   "source": [
    "# Overview"
   ]
  },
  {
   "cell_type": "markdown",
   "metadata": {},
   "source": [
    "# Business Problem"
   ]
  },
  {
   "cell_type": "markdown",
   "metadata": {},
   "source": [
    "We (XXXX COMPANY) are customer outreach specialists retained by SyriaTel to help reduce customer loss. As one of only two mobile service providers in Syria, SyriaTel is in constant competition with their only competition (MTN Syria) for wireless customers. Because they have a binary choice of provider, it is relatively easy for customers to compare their options for wireless service and find the best price and service. It is therefore critical for SyriaTel to understand if price per minute is the most important driver of customer behavior or if there are other services that play a large role. \n",
    "\n",
    "They would like to begin an outreach program to customers that are at a high risk of churning to avoid unnecessary runoff. The first step in that process is to use the dataset to identify predictors of churn in their customer base so that they can identify which customers are at a high risk of leaving. We have been charged with building a model that will effectively predict customer churn, and identifying which features of their dataset are most important within that prediction.\n",
    "\n",
    "We will apply several classifiers to the dataset to determine which might be most effective, and then tune the hyperparameters of the most effective models to arrive at our final recommendation.\n"
   ]
  },
  {
   "cell_type": "markdown",
   "metadata": {},
   "source": [
    "# Data Understanding"
   ]
  },
  {
   "cell_type": "markdown",
   "metadata": {},
   "source": [
    "For this analysis, we used a dataset of 3,333 SyriaTel customers. The dataset included customer profile information typical to the wireless space--phone number, state, area code, etc.--along with usage statistics and an indicator of whether or not the customer ultimately left SyriaTel (churned). \n",
    "\n",
    "In the following section, we review the datatypes in our customer base, perform some exploratory visualizations, and look for extraneous data within the dataset."
   ]
  },
  {
   "cell_type": "code",
   "execution_count": 123,
   "metadata": {},
   "outputs": [],
   "source": [
    "# Package Imports\n",
    "\n",
    "import pandas as pd\n",
    "import numpy as np\n",
    "from matplotlib import pyplot as plt\n",
    "import seaborn as sns\n",
    "\n",
    "from sklearn.model_selection import train_test_split, GridSearchCV, cross_val_score\n",
    "from sklearn.preprocessing import StandardScaler, OneHotEncoder, LabelEncoder, OrdinalEncoder\n",
    "\n",
    "from sklearn.linear_model import LogisticRegression\n",
    "from sklearn.ensemble import RandomForestClassifier, GradientBoostingClassifier\n",
    "from sklearn.metrics import plot_confusion_matrix, recall_score, accuracy_score, precision_score, f1_score, classification_report\n",
    "from sklearn.dummy import DummyRegressor, DummyClassifier\n",
    "from sklearn.tree import DecisionTreeClassifier\n",
    "from sklearn.neighbors import KNeighborsClassifier\n",
    "from sklearn.naive_bayes import GaussianNB\n",
    "\n",
    "# Pipeline Imports\n",
    "from sklearn.pipeline import Pipeline\n",
    "from sklearn.preprocessing import FunctionTransformer\n",
    "from sklearn.compose import ColumnTransformer\n",
    "from imblearn.over_sampling import SMOTE\n",
    "from imblearn.pipeline import Pipeline as ImPipeline\n",
    "\n",
    "import warnings\n",
    "from pprint import pprint"
   ]
  },
  {
   "cell_type": "code",
   "execution_count": 120,
   "metadata": {},
   "outputs": [
    {
     "name": "stdout",
     "output_type": "stream",
     "text": [
      "<class 'pandas.core.frame.DataFrame'>\n",
      "RangeIndex: 3333 entries, 0 to 3332\n",
      "Data columns (total 21 columns):\n",
      " #   Column                  Non-Null Count  Dtype  \n",
      "---  ------                  --------------  -----  \n",
      " 0   state                   3333 non-null   object \n",
      " 1   account length          3333 non-null   int64  \n",
      " 2   area code               3333 non-null   int64  \n",
      " 3   phone number            3333 non-null   object \n",
      " 4   international plan      3333 non-null   object \n",
      " 5   voice mail plan         3333 non-null   object \n",
      " 6   number vmail messages   3333 non-null   int64  \n",
      " 7   total day minutes       3333 non-null   float64\n",
      " 8   total day calls         3333 non-null   int64  \n",
      " 9   total day charge        3333 non-null   float64\n",
      " 10  total eve minutes       3333 non-null   float64\n",
      " 11  total eve calls         3333 non-null   int64  \n",
      " 12  total eve charge        3333 non-null   float64\n",
      " 13  total night minutes     3333 non-null   float64\n",
      " 14  total night calls       3333 non-null   int64  \n",
      " 15  total night charge      3333 non-null   float64\n",
      " 16  total intl minutes      3333 non-null   float64\n",
      " 17  total intl calls        3333 non-null   int64  \n",
      " 18  total intl charge       3333 non-null   float64\n",
      " 19  customer service calls  3333 non-null   int64  \n",
      " 20  churn                   3333 non-null   bool   \n",
      "dtypes: bool(1), float64(8), int64(8), object(4)\n",
      "memory usage: 524.2+ KB\n"
     ]
    }
   ],
   "source": [
    "# Read in customer data & review features & datatypes\n",
    "df = pd.read_csv('./data/original_data.csv')\n",
    "df.info()"
   ]
  },
  {
   "cell_type": "code",
   "execution_count": 122,
   "metadata": {},
   "outputs": [],
   "source": [
    "# Drop phone number from the dataset.\n",
    "df.drop('phone number', axis=1, inplace=True)"
   ]
  },
  {
   "cell_type": "markdown",
   "metadata": {},
   "source": [
    "### EDA Summary\n",
    "State, phone number, intl plan, voice mail plan are objects -- need to encode\n",
    "\n",
    "Account Length - maybe days, how long customer has been with company\n",
    "\n",
    "6 - 18 Usage Stats = number of calls number of minutes and charge for different time categories.\n",
    "\n",
    "19 - # of customer service calls\n",
    "\n",
    "Possible Churn Indicators:\n",
    "\n",
    "- By State?\n",
    "- High Customer Service Contact = high churn?\n",
    "- Low Calls/Low minutes = higher churn?\n",
    "- Can we identify a customer profile that is likely to churn for targeted marketing/incentives?\n",
    "- Drop Phone number -- basically a unique identifer for every customer, not likely to help in predictions\n",
    "\n",
    "- Location\n",
    "    - State/Area Code\n",
    "    \n",
    "- Duration\n",
    "    - Account Length\n",
    "    \n",
    "- Plan Types\n",
    "    - Intl / Voicemail\n",
    "    \n",
    "- Usage Stats\n",
    "    - minutes\n",
    "    - num calls\n",
    "    - charges\n",
    "    - customer service calls\n",
    "\n",
    "Drop Phone number\n",
    "\n",
    "Encoding Process:\n",
    "    - voicemail plan = Ordinalencoder 1/0\n",
    "    - international plan = Ordinalencoder 1/0\n",
    "    - state - one-hot encoding\n",
    "\n",
    "Scale Numerical Features\n",
    "\n",
    "\n",
    "\n"
   ]
  },
  {
   "cell_type": "markdown",
   "metadata": {},
   "source": [
    "#### Overall Churn Rate"
   ]
  },
  {
   "cell_type": "markdown",
   "metadata": {},
   "source": [
    "To provide a point of comparison, we idenfied the percentage of customers within the data that churned."
   ]
  },
  {
   "cell_type": "code",
   "execution_count": 174,
   "metadata": {},
   "outputs": [
    {
     "name": "stdout",
     "output_type": "stream",
     "text": [
      "(483, 20)\n",
      " Percentage of dataset representing churned customers:  0.14 .\n"
     ]
    }
   ],
   "source": [
    "# Calculate Overall Churn Rate\n",
    "print(df[df['churn'] == True].shape)\n",
    "print(f\" Percentage of dataset representing churned customers: \", round(483/3333, 2), \".\")"
   ]
  },
  {
   "cell_type": "markdown",
   "metadata": {},
   "source": [
    "#### Churn Rate by State\n",
    "We plotted a bar graph of churned(orange) and non-churned(blue) customers by state to assess visually if there is any obvious relationship. It does not appear that a customer's state has a meaningful impact on whether or not they will churn."
   ]
  },
  {
   "cell_type": "code",
   "execution_count": 11,
   "metadata": {},
   "outputs": [
    {
     "data": {
      "image/png": "[encoded data removed]",
      "text/plain": [
       "<Figure size 2160x720 with 1 Axes>"
      ]
     },
     "metadata": {
      "needs_background": "light"
     },
     "output_type": "display_data"
    }
   ],
   "source": [
    "df.groupby([\"state\", \"churn\"]).size().unstack().plot(kind='bar', stacked=True, figsize=(30,10)); "
   ]
  },
  {
   "cell_type": "markdown",
   "metadata": {},
   "source": [
    "#### Churn Rate by Area Code"
   ]
  },
  {
   "cell_type": "markdown",
   "metadata": {},
   "source": [
    "We plotted a bar graph of churned(orange) and non-churned(blue) customers by area code to assess visually if there is any obvious relationship. While it appears there might be a small variance by area code, we quickly identified that the presence of only 3 area codes across a dataset that includes 51 states (including DC) is suspicious. While it is possible that customers from all 51 states are assigned phone numbers from only 3 area codes, more information will be needed from SyriaTel to confirm the data's accuracy."
   ]
  },
  {
   "cell_type": "code",
   "execution_count": 142,
   "metadata": {},
   "outputs": [
    {
     "data": {
      "text/plain": [
       "415    1655\n",
       "510     840\n",
       "408     838\n",
       "Name: area code, dtype: int64"
      ]
     },
     "execution_count": 142,
     "metadata": {},
     "output_type": "execute_result"
    }
   ],
   "source": [
    "df['area code'].value_counts()"
   ]
  },
  {
   "cell_type": "code",
   "execution_count": 13,
   "metadata": {
    "scrolled": true
   },
   "outputs": [
    {
     "data": {
      "image/png": "[encoded data removed]",
      "text/plain": [
       "<Figure size 360x360 with 1 Axes>"
      ]
     },
     "metadata": {
      "needs_background": "light"
     },
     "output_type": "display_data"
    }
   ],
   "source": [
    "df.groupby([\"area code\", \"churn\"]).size().unstack().plot(kind='bar', stacked=True, figsize=(5,5));"
   ]
  },
  {
   "cell_type": "markdown",
   "metadata": {},
   "source": [
    "#### Churn Rate Among Users with Voicemail Plan"
   ]
  },
  {
   "cell_type": "markdown",
   "metadata": {},
   "source": [
    "We plotted a bar graph of churned(orange) and non-churned(blue) customers by the presence of a voicemail to assess visually if there is any obvious relationship. It does not appear that a customer's use of voicemail predicts that they will churn. In fact, only 8.7% of voice mail users ended up churning compared to ~15% of the overall dataset. More analysis will be needed to determine how meaningful this feature is. "
   ]
  },
  {
   "cell_type": "code",
   "execution_count": 148,
   "metadata": {},
   "outputs": [
    {
     "data": {
      "image/png": "[encoded data removed]",
      "text/plain": [
       "<Figure size 360x360 with 1 Axes>"
      ]
     },
     "metadata": {
      "needs_background": "light"
     },
     "output_type": "display_data"
    }
   ],
   "source": [
    "df.groupby([\"voice mail plan\", \"churn\"]).size().unstack().plot(kind='bar', stacked=True, figsize=(5,5));"
   ]
  },
  {
   "cell_type": "markdown",
   "metadata": {},
   "source": [
    "Interestingly, the number proportion of voicemail customers that churned is much lower than the overall churn rate. That could suggest that use of voicemail makes the customer relationship stickier, and that further marketing of the product could improve retention. Further analysis is needed to confirm. "
   ]
  },
  {
   "cell_type": "code",
   "execution_count": 146,
   "metadata": {},
   "outputs": [
    {
     "data": {
      "image/png": "[encoded data removed]",
      "text/plain": [
       "<Figure size 360x360 with 1 Axes>"
      ]
     },
     "metadata": {
      "needs_background": "light"
     },
     "output_type": "display_data"
    }
   ],
   "source": [
    "df.groupby([\"voice mail plan\", \"churn\"]).size().plot(kind='bar', stacked=True, figsize=(5,5));"
   ]
  },
  {
   "cell_type": "code",
   "execution_count": 162,
   "metadata": {},
   "outputs": [
    {
     "data": {
      "text/plain": [
       "(922, 20)"
      ]
     },
     "execution_count": 162,
     "metadata": {},
     "output_type": "execute_result"
    }
   ],
   "source": [
    "print(df[df['voice mail plan'] == 'yes'].shape)"
   ]
  },
  {
   "cell_type": "code",
   "execution_count": 165,
   "metadata": {},
   "outputs": [
    {
     "data": {
      "text/plain": [
       "False    842\n",
       "True      80\n",
       "Name: churn, dtype: int64"
      ]
     },
     "execution_count": 165,
     "metadata": {},
     "output_type": "execute_result"
    }
   ],
   "source": [
    "df_vm = df[df['voice mail plan'] == 'yes']\n",
    "df_vm['churn'].value_counts()"
   ]
  },
  {
   "cell_type": "code",
   "execution_count": 178,
   "metadata": {},
   "outputs": [
    {
     "name": "stdout",
     "output_type": "stream",
     "text": [
      "0.08676789587852494\n"
     ]
    }
   ],
   "source": [
    "print(80/(80+842))"
   ]
  },
  {
   "cell_type": "markdown",
   "metadata": {},
   "source": [
    "#### Churn Among Users with International Plan"
   ]
  },
  {
   "cell_type": "markdown",
   "metadata": {},
   "source": [
    "Similar to voicemail users, we plotted a bar graph of churned and non-churned customers customers by the presence of an international plan to assess visually if there is any obvious relationship. In constrast to our other features, international plan usage seems to be extremely important in predicting customer churn. About 42% of international plan users end up moving to another provider--much higher than the 15% baseline. We therefore expect our modelling efforts to identify international plan usage as an important predictor of churn.\n"
   ]
  },
  {
   "cell_type": "code",
   "execution_count": 176,
   "metadata": {},
   "outputs": [
    {
     "data": {
      "image/png": "[encoded data removed]",
      "text/plain": [
       "<Figure size 360x360 with 1 Axes>"
      ]
     },
     "metadata": {
      "needs_background": "light"
     },
     "output_type": "display_data"
    }
   ],
   "source": [
    "df.groupby([\"international plan\", \"churn\"]).size().plot(kind='bar', stacked=True, figsize=(5,5));"
   ]
  },
  {
   "cell_type": "code",
   "execution_count": 179,
   "metadata": {},
   "outputs": [
    {
     "data": {
      "text/plain": [
       "False    186\n",
       "True     137\n",
       "Name: churn, dtype: int64"
      ]
     },
     "execution_count": 179,
     "metadata": {},
     "output_type": "execute_result"
    }
   ],
   "source": [
    "df_churn = df[df['international plan'] == 'yes']\n",
    "df_churn['churn'].value_counts()"
   ]
  },
  {
   "cell_type": "code",
   "execution_count": 180,
   "metadata": {},
   "outputs": [
    {
     "name": "stdout",
     "output_type": "stream",
     "text": [
      "0.4241486068111455\n"
     ]
    }
   ],
   "source": [
    "print(137/(137+186))"
   ]
  },
  {
   "cell_type": "markdown",
   "metadata": {},
   "source": [
    "#### Train Test Split"
   ]
  },
  {
   "cell_type": "code",
   "execution_count": 15,
   "metadata": {},
   "outputs": [],
   "source": [
    "X = df.drop('churn', axis=1)\n",
    "y = df['churn']\n",
    "\n",
    "X_train, X_test, y_train, y_test = train_test_split(X, y, random_state=42, test_size=0.33)"
   ]
  },
  {
   "cell_type": "code",
   "execution_count": 16,
   "metadata": {},
   "outputs": [
    {
     "name": "stdout",
     "output_type": "stream",
     "text": [
      "<class 'pandas.core.frame.DataFrame'>\n",
      "Int64Index: 2233 entries, 2360 to 3174\n",
      "Data columns (total 19 columns):\n",
      " #   Column                  Non-Null Count  Dtype  \n",
      "---  ------                  --------------  -----  \n",
      " 0   state                   2233 non-null   object \n",
      " 1   account length          2233 non-null   int64  \n",
      " 2   area code               2233 non-null   int64  \n",
      " 3   international plan      2233 non-null   object \n",
      " 4   voice mail plan         2233 non-null   object \n",
      " 5   number vmail messages   2233 non-null   int64  \n",
      " 6   total day minutes       2233 non-null   float64\n",
      " 7   total day calls         2233 non-null   int64  \n",
      " 8   total day charge        2233 non-null   float64\n",
      " 9   total eve minutes       2233 non-null   float64\n",
      " 10  total eve calls         2233 non-null   int64  \n",
      " 11  total eve charge        2233 non-null   float64\n",
      " 12  total night minutes     2233 non-null   float64\n",
      " 13  total night calls       2233 non-null   int64  \n",
      " 14  total night charge      2233 non-null   float64\n",
      " 15  total intl minutes      2233 non-null   float64\n",
      " 16  total intl calls        2233 non-null   int64  \n",
      " 17  total intl charge       2233 non-null   float64\n",
      " 18  customer service calls  2233 non-null   int64  \n",
      "dtypes: float64(8), int64(8), object(3)\n",
      "memory usage: 348.9+ KB\n"
     ]
    }
   ],
   "source": [
    "X_train.info()"
   ]
  },
  {
   "cell_type": "code",
   "execution_count": 17,
   "metadata": {},
   "outputs": [
    {
     "data": {
      "text/plain": [
       "no     1621\n",
       "yes     612\n",
       "Name: voice mail plan, dtype: int64"
      ]
     },
     "execution_count": 17,
     "metadata": {},
     "output_type": "execute_result"
    }
   ],
   "source": [
    "X_train['voice mail plan'].value_counts()"
   ]
  },
  {
   "cell_type": "code",
   "execution_count": 138,
   "metadata": {},
   "outputs": [],
   "source": [
    "# Assign each column to a list based on its datatype--either numerical or categorical\n",
    "#num_cols = [1, 2, 5, 6, 7, 8, 9, 10, 11, 12, 13, 14, 15, 16, 17, 18]\n",
    "#cat_cols = [0, 3, 4]"
   ]
  },
  {
   "cell_type": "markdown",
   "metadata": {},
   "source": [
    "## Pipeline Construction"
   ]
  },
  {
   "cell_type": "markdown",
   "metadata": {},
   "source": [
    "To facilitate more efficient modelling, we will construct a column transformer that performs all necessary data transformation & scaling and then runs the appropriate model. Our transformer contains three subpipes, each of which includes an encoder or scaler as appropriate based on the data type. Specifically, we will ordinal encode the yes/no values of international plan and voicemail plan, one-hot encode a customer's state, and apply a standard scaler to all numerical data.\n",
    "\n",
    "**A note regarding imbalanced data:**\n",
    "Within our dataset, only 483 of the 3,333 customers actually churned. Therefore, we have an imbalanced set that must be addressed in order for our modelling to function well. To address this imbalance, we will use SMOTE to oversample our minority class of churned customers to more closely resemble a full dataset. According to [Statista.com](https://www.statista.com/statistics/816735/customer-churn-rate-by-industry-us/), the average churn rate among wireless providers is about 22%. We therefore do not want a completely balanced dataset, and will use a smote strategy that retains a 25% imbalance in the data."
   ]
  },
  {
   "cell_type": "markdown",
   "metadata": {},
   "source": [
    "# REVIST THIS AFTER WE GRIDSEARCH FOR SMOTE"
   ]
  },
  {
   "cell_type": "code",
   "execution_count": 139,
   "metadata": {},
   "outputs": [],
   "source": [
    "# Define functions to identify and select columns based on the datatype stored in that column.\n",
    "def get_numeric(df):\n",
    "    return df.select_dtypes(include=['float64', 'int64'])\n",
    "\n",
    "def get_categorical(df):\n",
    "    return df.select_dtypes(include=['bool', 'object'])\n",
    "\n",
    "# Create transformer objects using our get functions\n",
    "GetNumeric = FunctionTransformer(get_numeric)\n",
    "GetCategories = FunctionTransformer(get_categorical)"
   ]
  },
  {
   "cell_type": "code",
   "execution_count": 140,
   "metadata": {},
   "outputs": [],
   "source": [
    "# Subpipelines to select and scale our numeric data / select and one-hot encode our categorical data.\n",
    "subpipe_num = Pipeline(steps=[('num', GetNumeric),\n",
    "                                ('ss', StandardScaler())])\n",
    " \n",
    "subpipe_ohe = Pipeline(steps=[('cat', GetCategories), \n",
    "                              ('ohe', OneHotEncoder(sparse=False, handle_unknown='ignore'))])\n",
    "\n",
    "subpipe_ord = Pipeline(steps=[('ord', OrdinalEncoder())])"
   ]
  },
  {
   "cell_type": "code",
   "execution_count": 141,
   "metadata": {},
   "outputs": [],
   "source": [
    "# Create lists of numeric and categorical columns.\n",
    "num_cols = [1, 2, 5, 6, 7, 8, 9, 10, 11, 12, 13, 14, 15, 16, 17, 18]\n",
    "num_cols = list(df.columns[num_cols])\n",
    "cat_cols = ['state']\n",
    "ord_cols = [3, 4]\n",
    "ord_cols = list(df.columns[ord_cols])\n",
    "\n",
    "# Create ColumnTransformer object that contains our subpipes for column transformation\n",
    "CT = ColumnTransformer(transformers=[\n",
    "                                    ('subpipe_num', subpipe_num, num_cols),\n",
    "                                    ('subpipe_ohe', subpipe_ohe, cat_cols),\n",
    "                                    ('subpipe_ord', subpipe_ord, ord_cols)]\n",
    "                      )"
   ]
  },
  {
   "cell_type": "code",
   "execution_count": 202,
   "metadata": {},
   "outputs": [],
   "source": [
    "# Avg churn rate is 22% for all providers, we elect a smote strategy of 25%.\n",
    "\n",
    "sm = SMOTE(sampling_strategy=0.75, random_state=42)"
   ]
  },
  {
   "cell_type": "markdown",
   "metadata": {},
   "source": [
    "## Functions"
   ]
  },
  {
   "cell_type": "markdown",
   "metadata": {},
   "source": [
    "We created three custom functions to be used when evaluated our models:\n",
    "\n",
    "- **cross_val** is a cross validation function that prints the mean, median and standard deviation of the f1 score of each model. \n",
    "\n",
    "- **get_column_names_from_ColumnTransformer** is a custom function written by a user in the sklearn support forums to allow retrieval of column names within a CT within a pipeline. This feature was later added to sklearn, but was not present in version 0.23, which was utilized for this analysis.\n",
    "\n",
    "- **get_feature_importance** retrieves the feature importance and feature name from each model pipeline and plots a bar graph that displays the ten most important features as identified by the model.\n",
    "\n"
   ]
  },
  {
   "cell_type": "code",
   "execution_count": 30,
   "metadata": {},
   "outputs": [],
   "source": [
    "# This function will allow for quick cross-validation of the f1 score for each of our models.\n",
    "def cross_val(model, X, y, kfolds=10):\n",
    "    \"\"\" Perform cross-validated scoring and store/print results \"\"\"\n",
    "    f1_results = cross_val_score(model, X, y, cv=kfolds, scoring='f1')\n",
    "    f1_mean = np.mean(f1_results)\n",
    "    f1_median = np.median(f1_results)\n",
    "    f1_std = np.std(f1_results)\n",
    "    print(f\"Mean f1 score: \", {f1_mean}, \".\")\n",
    "    print(f\"Median f1 score: \", {f1_median}, \".\")\n",
    "    print(f\"Standard Deviation in f1 score: \", {f1_std}, \".\")"
   ]
  },
  {
   "cell_type": "code",
   "execution_count": null,
   "metadata": {},
   "outputs": [],
   "source": [
    "# This function will allow us to extract the column names of the data that is transformed in our pipelines.\n",
    "\n",
    "def get_column_names_from_ColumnTransformer(column_transformer):    \n",
    "    col_name = []\n",
    "    for transformer_in_columns in column_transformer.transformers_:#the last transformer is ColumnTransformer's 'remainder'\n",
    "        raw_col_name = transformer_in_columns[2]\n",
    "        if isinstance(transformer_in_columns[1],Pipeline): \n",
    "            transformer = transformer_in_columns[1].steps[-1][1]\n",
    "        else:\n",
    "            transformer = transformer_in_columns[1]\n",
    "        try:\n",
    "            names = transformer.get_feature_names()\n",
    "        except AttributeError: # if no 'get_feature_names' function, use raw column name\n",
    "            names = raw_col_name\n",
    "        if isinstance(names,np.ndarray): # eg.\n",
    "            col_name += names.tolist()\n",
    "        elif isinstance(names,list):\n",
    "            col_name += names    \n",
    "        elif isinstance(names,str):\n",
    "            col_name.append(names)\n",
    "    return col_name\n",
    "\n",
    "# Credit to Joey Gao @ https://github.com/scikit-learn/scikit-learn/issues/12525 for the shell of this function."
   ]
  },
  {
   "cell_type": "code",
   "execution_count": 133,
   "metadata": {},
   "outputs": [],
   "source": [
    "def get_feature_importance(model, mod_type, X, y):\n",
    "    \"\"\" \n",
    "    Get feature importances, use get_column_names_from_ColumnTransformer grab column names and plot a horizontal bar\n",
    "    graph of the 10 most important features when run on a pipeline that contains a model.\n",
    "    \"\"\"\n",
    "    # Grab feature importances & column names\n",
    "    feature_importance = model.named_steps[mod_type].feature_importances_\n",
    "    feature_names = get_column_names_from_ColumnTransformer(CT)\n",
    "    feature_names = [name.title() for name in feature_names]\n",
    "    \n",
    "    # Create dataframe of feature importances & feature names to facilitate easier plotting\n",
    "    feat_importances = pd.DataFrame(model.named_steps[mod_type].feature_importances_, index=feature_names)\n",
    "    feat_importances = feat_importances[0].nlargest(10)\n",
    "     \n",
    "    # Plot basic horizontal bar graph of 10 most important features.                        \n",
    "    fig, ax = plt.subplots()\n",
    "    ax = feat_importances.plot(kind='barh' , figsize=(10,10))\n",
    "    ax.set_xlabel('Attribute Importance')\n",
    "    ax.set_ylabel('Customer Attributes')\n",
    "    ax.set_title('Attributes Most Predictive of Churn')"
   ]
  },
  {
   "cell_type": "markdown",
   "metadata": {},
   "source": [
    "# Modelling"
   ]
  },
  {
   "cell_type": "markdown",
   "metadata": {},
   "source": [
    "For our analysis we elected to use the f1 score to evaluate our models. The f1 score provides a balance between the importance of false positives and false negatives, and does not reward accuracy at the cost of recall/precission. Given that SyriaTel intends to perform customer outreach to customer groups at risk of churn, we assume there is a significant cost associated with making the outreach group too broad. Providing a discount or promotional rate to customers that had no intention of shopping around might improve loyalty, but it will certainly hurt the company's bottom line. Similarly, we need to avoid false negative tests where we assume a customer is not at risk of churn when they are actually thinking about shoppiing around. A lost customer is likely to be very damaging to the company's revenue. "
   ]
  },
  {
   "cell_type": "markdown",
   "metadata": {},
   "source": [
    "## Dummy Classifier"
   ]
  },
  {
   "cell_type": "markdown",
   "metadata": {},
   "source": [
    "We began with a Dummy Classifier model to serve as a baseline. This model simply guesses the most common target variable in the dataset for every record it is presented. Because we have so many true falses in our dataset, the classifer guesses false for every record. This leads to an f1 score of 0, since the numerater of f1 score includes multiplication by zero."
   ]
  },
  {
   "cell_type": "code",
   "execution_count": 185,
   "metadata": {},
   "outputs": [],
   "source": [
    "# Definte a pipeline to transform and smote our data using the subpipes defined above, and apply a Dummy Classifier\n",
    "dummy_model_pipe = ImPipeline(steps=[\n",
    "                                        ('ct', CT),\n",
    "                                        ('sm', sm),\n",
    "                                        ('dc', DummyClassifier(strategy='most_frequent', random_state=42))\n",
    "                                       ]\n",
    "                                )"
   ]
  },
  {
   "cell_type": "code",
   "execution_count": 186,
   "metadata": {},
   "outputs": [
    {
     "name": "stdout",
     "output_type": "stream",
     "text": [
      "Mean f1 score:  {0.0} .\n",
      "Median f1 score:  {0.0} .\n",
      "Standard Deviation in f1 score:  {0.0} .\n"
     ]
    }
   ],
   "source": [
    "dummy_model_pipe.fit(X_train, y_train)\n",
    "cross_val(dummy_model_pipe, X_train, y_train)"
   ]
  },
  {
   "cell_type": "code",
   "execution_count": 187,
   "metadata": {},
   "outputs": [
    {
     "data": {
      "image/png": "[encoded data removed]",
      "text/plain": [
       "<Figure size 432x288 with 2 Axes>"
      ]
     },
     "metadata": {
      "needs_background": "light"
     },
     "output_type": "display_data"
    }
   ],
   "source": [
    "plot_confusion_matrix(dummy_model_pipe, X_train, y_train)\n",
    "title = 'Dummy Classifier'\n",
    "plt.title(title);"
   ]
  },
  {
   "cell_type": "markdown",
   "metadata": {},
   "source": [
    "## Logistic Regression - First Simple Model"
   ]
  },
  {
   "cell_type": "markdown",
   "metadata": {},
   "source": [
    "We elected to use linear regression as our first simple model because it's relatively easy to implement and very efficient to train. As expected given that much of our data is non-linear, the model struggled badly. Due to the poor performance, we did not iterate on this model."
   ]
  },
  {
   "cell_type": "code",
   "execution_count": 32,
   "metadata": {},
   "outputs": [],
   "source": [
    "# Define logistic regression pipeline using ColumnTransformer and Smote from above\n",
    "lr_pipeline = ImPipeline(steps=[\n",
    "                                        ('ct', CT),\n",
    "                                        ('sm', sm),\n",
    "                                        ('lr', LogisticRegression(random_state=42))\n",
    "                                       ]\n",
    "                                )\n",
    "\n"
   ]
  },
  {
   "cell_type": "code",
   "execution_count": 33,
   "metadata": {},
   "outputs": [
    {
     "name": "stdout",
     "output_type": "stream",
     "text": [
      "Mean f1 score:  {0.47585886006760036} .\n",
      "Median f1 score:  {0.4835748792270531} .\n",
      "Standard Deviation in f1 score:  {0.055112667756457956} .\n"
     ]
    }
   ],
   "source": [
    "lr_pipeline.fit(X_train, y_train)\n",
    "\n",
    "cross_val(lr_pipeline, X_train, y_train)"
   ]
  },
  {
   "cell_type": "code",
   "execution_count": 34,
   "metadata": {},
   "outputs": [
    {
     "name": "stdout",
     "output_type": "stream",
     "text": [
      "              precision    recall  f1-score   support\n",
      "\n",
      "       False       0.93      0.82      0.87       940\n",
      "        True       0.38      0.65      0.48       160\n",
      "\n",
      "    accuracy                           0.80      1100\n",
      "   macro avg       0.66      0.74      0.68      1100\n",
      "weighted avg       0.85      0.80      0.82      1100\n",
      "\n"
     ]
    }
   ],
   "source": [
    "lr_y_hat = lr_pipeline.predict(X_test)\n",
    "print(classification_report(y_test, lr_y_hat))"
   ]
  },
  {
   "cell_type": "code",
   "execution_count": 189,
   "metadata": {},
   "outputs": [
    {
     "data": {
      "image/png": "[encoded data removed]",
      "text/plain": [
       "<Figure size 432x288 with 2 Axes>"
      ]
     },
     "metadata": {
      "needs_background": "light"
     },
     "output_type": "display_data"
    }
   ],
   "source": [
    "plot_confusion_matrix(lr_pipeline, X_test, y_test)\n",
    "title = 'Logistic Regression'\n",
    "plt.title(title);"
   ]
  },
  {
   "cell_type": "markdown",
   "metadata": {},
   "source": [
    "## K-Nearest Neighbors"
   ]
  },
  {
   "cell_type": "markdown",
   "metadata": {},
   "source": [
    "For our second model, we attempted a KNN classifier. The model's ease of implementation and lack of training period made it an appealing early step. Similar to our logistic regression model, the KNN model struggled badly with the dataset and performed quite poorly in terms of f1 score. We did not iterate on this model due to the poor performance."
   ]
  },
  {
   "cell_type": "code",
   "execution_count": 38,
   "metadata": {},
   "outputs": [],
   "source": [
    "knn_pipeline = ImPipeline(steps=[\n",
    "                                        ('ct', CT),\n",
    "                                        ('sm', sm),\n",
    "                                        ('knn', KNeighborsClassifier())\n",
    "                                       ]\n",
    "                                )"
   ]
  },
  {
   "cell_type": "code",
   "execution_count": 39,
   "metadata": {},
   "outputs": [
    {
     "name": "stdout",
     "output_type": "stream",
     "text": [
      "Mean f1 score:  {0.44515018728655065} .\n",
      "Median f1 score:  {0.4341013824884793} .\n",
      "Standard Deviation in f1 score:  {0.03531257224889898} .\n"
     ]
    }
   ],
   "source": [
    "knn_pipeline.fit(X_train, y_train)\n",
    "cross_val(knn_pipeline, X_train, y_train)"
   ]
  },
  {
   "cell_type": "code",
   "execution_count": 40,
   "metadata": {},
   "outputs": [
    {
     "name": "stdout",
     "output_type": "stream",
     "text": [
      "              precision    recall  f1-score   support\n",
      "\n",
      "       False       1.00      0.86      0.92      1910\n",
      "        True       0.54      0.98      0.70       323\n",
      "\n",
      "    accuracy                           0.88      2233\n",
      "   macro avg       0.77      0.92      0.81      2233\n",
      "weighted avg       0.93      0.88      0.89      2233\n",
      "\n"
     ]
    }
   ],
   "source": [
    "knn_y_hat = knn_pipeline.predict(X_train)\n",
    "print(classification_report(y_train, knn_y_hat))"
   ]
  },
  {
   "cell_type": "code",
   "execution_count": 41,
   "metadata": {},
   "outputs": [
    {
     "data": {
      "image/png": "[encoded data removed]",
      "text/plain": [
       "<Figure size 432x288 with 2 Axes>"
      ]
     },
     "metadata": {
      "needs_background": "light"
     },
     "output_type": "display_data"
    }
   ],
   "source": [
    "plot_confusion_matrix(knn_pipeline, X_train, y_train)\n",
    "title = 'KNN'\n",
    "plt.title(title);"
   ]
  },
  {
   "cell_type": "markdown",
   "metadata": {},
   "source": [
    "# DecisionTree"
   ]
  },
  {
   "cell_type": "markdown",
   "metadata": {},
   "source": [
    "For our third model, we decided to use a decision tree because, for a classification model, it is relatively simple to explain to stakeholders. It performed noticeably better on cross-validated f1 score, but struggled badly with overfitting. Given the superior performance of this tree-based model, we decided to use Random Forest and Gradient Boosted Classifiers as our next approach."
   ]
  },
  {
   "cell_type": "code",
   "execution_count": 36,
   "metadata": {},
   "outputs": [],
   "source": [
    "dt_pipeline = ImPipeline(steps=[\n",
    "                                        ('ct', CT),\n",
    "                                        ('sm', sm),\n",
    "                                        ('dt', DecisionTreeClassifier(random_state=42))\n",
    "                                       ]\n",
    "                                )"
   ]
  },
  {
   "cell_type": "code",
   "execution_count": 37,
   "metadata": {},
   "outputs": [
    {
     "name": "stdout",
     "output_type": "stream",
     "text": [
      "Mean f1 score:  {0.6813362815421017} .\n",
      "Median f1 score:  {0.6824175824175824} .\n",
      "Standard Deviation in f1 score:  {0.07924240983682433} .\n"
     ]
    }
   ],
   "source": [
    "dt_pipeline.fit(X_train, y_train)\n",
    "cross_val(dt_pipeline, X_train, y_train)"
   ]
  },
  {
   "cell_type": "code",
   "execution_count": 28,
   "metadata": {},
   "outputs": [
    {
     "name": "stdout",
     "output_type": "stream",
     "text": [
      "              precision    recall  f1-score   support\n",
      "\n",
      "       False       1.00      1.00      1.00      1910\n",
      "        True       1.00      1.00      1.00       323\n",
      "\n",
      "    accuracy                           1.00      2233\n",
      "   macro avg       1.00      1.00      1.00      2233\n",
      "weighted avg       1.00      1.00      1.00      2233\n",
      "\n"
     ]
    }
   ],
   "source": [
    "dt_y_hat = dt_pipeline.predict(X_train)\n",
    "print(classification_report(y_train, dt_y_hat))"
   ]
  },
  {
   "cell_type": "code",
   "execution_count": 29,
   "metadata": {},
   "outputs": [
    {
     "data": {
      "image/png": "[encoded data removed]",
      "text/plain": [
       "<Figure size 432x288 with 2 Axes>"
      ]
     },
     "metadata": {
      "needs_background": "light"
     },
     "output_type": "display_data"
    }
   ],
   "source": [
    "plot_confusion_matrix(dt_pipeline, X_train, y_train)\n",
    "title = 'Decision Tree'\n",
    "plt.title(title);"
   ]
  },
  {
   "cell_type": "code",
   "execution_count": 132,
   "metadata": {
    "scrolled": false
   },
   "outputs": [
    {
     "data": {
      "image/png": "[encoded data removed]",
      "text/plain": [
       "<Figure size 720x720 with 1 Axes>"
      ]
     },
     "metadata": {
      "needs_background": "light"
     },
     "output_type": "display_data"
    }
   ],
   "source": [
    "get_feature_importance(dt_pipeline, 'dt', X_train, y_train)"
   ]
  },
  {
   "cell_type": "markdown",
   "metadata": {},
   "source": [
    "# Random Forest"
   ]
  },
  {
   "cell_type": "code",
   "execution_count": 45,
   "metadata": {},
   "outputs": [],
   "source": [
    "rf_pipeline = ImPipeline(steps=[\n",
    "                                        ('ct', CT),\n",
    "                                        ('sm', sm),\n",
    "                                        ('rf', RandomForestClassifier(random_state=42))\n",
    "                                       ]\n",
    "                                )"
   ]
  },
  {
   "cell_type": "code",
   "execution_count": 46,
   "metadata": {
    "scrolled": false
   },
   "outputs": [
    {
     "name": "stdout",
     "output_type": "stream",
     "text": [
      "Mean f1 score:  {0.7554505669905633} .\n",
      "Median f1 score:  {0.7627118644067796} .\n",
      "Standard Deviation in f1 score:  {0.057480336321058756} .\n"
     ]
    }
   ],
   "source": [
    "rf_pipeline.fit(X_train, y_train)\n",
    "cross_val(rf_pipeline, X_train, y_train)"
   ]
  },
  {
   "cell_type": "code",
   "execution_count": 67,
   "metadata": {},
   "outputs": [
    {
     "name": "stdout",
     "output_type": "stream",
     "text": [
      "              precision    recall  f1-score   support\n",
      "\n",
      "       False       1.00      1.00      1.00      1910\n",
      "        True       1.00      1.00      1.00       323\n",
      "\n",
      "    accuracy                           1.00      2233\n",
      "   macro avg       1.00      1.00      1.00      2233\n",
      "weighted avg       1.00      1.00      1.00      2233\n",
      "\n"
     ]
    }
   ],
   "source": [
    "rf_y_hat = rf_pipeline.predict(X_train)\n",
    "print(classification_report(y_train, rf_y_hat))"
   ]
  },
  {
   "cell_type": "code",
   "execution_count": 47,
   "metadata": {},
   "outputs": [
    {
     "data": {
      "image/png": "[encoded data removed]",
      "text/plain": [
       "<Figure size 432x288 with 2 Axes>"
      ]
     },
     "metadata": {
      "needs_background": "light"
     },
     "output_type": "display_data"
    }
   ],
   "source": [
    "plot_confusion_matrix(rf_pipeline, X_train, y_train)\n",
    "title = 'Random Forest'\n",
    "plt.title(title);"
   ]
  },
  {
   "cell_type": "code",
   "execution_count": 58,
   "metadata": {},
   "outputs": [
    {
     "data": {
      "image/png": "[encoded data removed]",
      "text/plain": [
       "<Figure size 720x720 with 1 Axes>"
      ]
     },
     "metadata": {
      "needs_background": "light"
     },
     "output_type": "display_data"
    }
   ],
   "source": [
    "get_feature_importance(rf_pipeline, 'rf', X_train, y_train)"
   ]
  },
  {
   "cell_type": "markdown",
   "metadata": {},
   "source": [
    "### Tuning Random Forest Classifier with Grid Search"
   ]
  },
  {
   "cell_type": "markdown",
   "metadata": {},
   "source": [
    "summary of approach to tuning"
   ]
  },
  {
   "cell_type": "code",
   "execution_count": 66,
   "metadata": {},
   "outputs": [
    {
     "name": "stdout",
     "output_type": "stream",
     "text": [
      "Current Parameters:\n",
      "\n",
      "{'bootstrap': True,\n",
      " 'ccp_alpha': 0.0,\n",
      " 'class_weight': None,\n",
      " 'criterion': 'gini',\n",
      " 'max_depth': None,\n",
      " 'max_features': 'auto',\n",
      " 'max_leaf_nodes': None,\n",
      " 'max_samples': None,\n",
      " 'min_impurity_decrease': 0.0,\n",
      " 'min_impurity_split': None,\n",
      " 'min_samples_leaf': 1,\n",
      " 'min_samples_split': 2,\n",
      " 'min_weight_fraction_leaf': 0.0,\n",
      " 'n_estimators': 100,\n",
      " 'n_jobs': None,\n",
      " 'oob_score': False,\n",
      " 'random_state': 42,\n",
      " 'verbose': 0,\n",
      " 'warm_start': False}\n"
     ]
    }
   ],
   "source": [
    "# Print out original parameters of rf classifier in rf_pipeline\n",
    "print('Current Parameters:\\n')\n",
    "pprint(rf_pipeline.named_steps['rf'].get_params())"
   ]
  },
  {
   "cell_type": "code",
   "execution_count": 91,
   "metadata": {},
   "outputs": [],
   "source": [
    "# Define new set of parameters to grid-search over\n",
    "rf_params = {\n",
    "            'rf__n_estimators': [10, 20, 30],\n",
    "            'rf__min_samples_leaf': [1, 2, 4, 6],\n",
    "            'rf__min_samples_split': [2, 5, 10],\n",
    "            'rf__max_depth': [10, 20, 30, 40, 50, 60, 70, 80, 90, 100],\n",
    "            'rf__bootstrap': [True, False]\n",
    "             }\n",
    "\n",
    "# Instantiate a grid search object using the parameters defined above.\n",
    "rf_gs = GridSearchCV(rf_pipeline, param_grid=rf_params, n_jobs=-4, verbose=3, cv=10)"
   ]
  },
  {
   "cell_type": "code",
   "execution_count": 93,
   "metadata": {
    "scrolled": false
   },
   "outputs": [
    {
     "name": "stdout",
     "output_type": "stream",
     "text": [
      "Fitting 10 folds for each of 720 candidates, totalling 7200 fits\n"
     ]
    },
    {
     "name": "stderr",
     "output_type": "stream",
     "text": [
      "[Parallel(n_jobs=-4)]: Using backend LokyBackend with 7 concurrent workers.\n",
      "[Parallel(n_jobs=-4)]: Done  18 tasks      | elapsed:    1.0s\n",
      "[Parallel(n_jobs=-4)]: Done 281 tasks      | elapsed:    4.3s\n",
      "[Parallel(n_jobs=-4)]: Done 921 tasks      | elapsed:   13.2s\n",
      "[Parallel(n_jobs=-4)]: Done 1817 tasks      | elapsed:   25.5s\n",
      "[Parallel(n_jobs=-4)]: Done 2969 tasks      | elapsed:   41.6s\n",
      "[Parallel(n_jobs=-4)]: Done 4377 tasks      | elapsed:  1.1min\n",
      "[Parallel(n_jobs=-4)]: Done 6041 tasks      | elapsed:  1.6min\n",
      "[Parallel(n_jobs=-4)]: Done 7200 out of 7200 | elapsed:  1.9min finished\n"
     ]
    },
    {
     "data": {
      "text/plain": [
       "GridSearchCV(cv=10,\n",
       "             estimator=Pipeline(steps=[('ct',\n",
       "                                        ColumnTransformer(transformers=[('subpipe_num',\n",
       "                                                                         Pipeline(steps=[('num',\n",
       "                                                                                          FunctionTransformer(func=<function get_numeric at 0x7fb1cbebcb80>)),\n",
       "                                                                                         ('ss',\n",
       "                                                                                          StandardScaler())]),\n",
       "                                                                         ['account '\n",
       "                                                                          'length',\n",
       "                                                                          'area '\n",
       "                                                                          'code',\n",
       "                                                                          'number '\n",
       "                                                                          'vmail '\n",
       "                                                                          'messages',\n",
       "                                                                          'total '\n",
       "                                                                          'day '\n",
       "                                                                          'minutes',\n",
       "                                                                          'total '\n",
       "                                                                          'day '\n",
       "                                                                          'calls',\n",
       "                                                                          'total '\n",
       "                                                                          'day '\n",
       "                                                                          'charge',\n",
       "                                                                          'total '\n",
       "                                                                          'eve '\n",
       "                                                                          'minu...\n",
       "                                                                         ['international '\n",
       "                                                                          'plan',\n",
       "                                                                          'voice '\n",
       "                                                                          'mail '\n",
       "                                                                          'plan'])])),\n",
       "                                       ('sm',\n",
       "                                        SMOTE(random_state=42,\n",
       "                                              sampling_strategy=0.75)),\n",
       "                                       ('rf',\n",
       "                                        RandomForestClassifier(random_state=42))]),\n",
       "             n_jobs=-4,\n",
       "             param_grid={'rf__bootstrap': [True, False],\n",
       "                         'rf__max_depth': [10, 20, 30, 40, 50, 60, 70, 80, 90,\n",
       "                                           100],\n",
       "                         'rf__min_samples_leaf': [1, 2, 4, 6],\n",
       "                         'rf__min_samples_split': [2, 5, 10],\n",
       "                         'rf__n_estimators': [10, 20, 30]},\n",
       "             verbose=3)"
      ]
     },
     "execution_count": 93,
     "metadata": {},
     "output_type": "execute_result"
    }
   ],
   "source": [
    "# Fit the grid search object on training data.\n",
    "rf_gs.fit(X_train, y_train)"
   ]
  },
  {
   "cell_type": "code",
   "execution_count": 95,
   "metadata": {},
   "outputs": [
    {
     "data": {
      "text/plain": [
       "{'rf__bootstrap': False,\n",
       " 'rf__max_depth': 30,\n",
       " 'rf__min_samples_leaf': 4,\n",
       " 'rf__min_samples_split': 10,\n",
       " 'rf__n_estimators': 20}"
      ]
     },
     "execution_count": 95,
     "metadata": {},
     "output_type": "execute_result"
    }
   ],
   "source": [
    "# Find best parameters for initial grid search\n",
    "rf_gs.best_params_"
   ]
  },
  {
   "cell_type": "code",
   "execution_count": null,
   "metadata": {},
   "outputs": [],
   "source": []
  },
  {
   "cell_type": "markdown",
   "metadata": {},
   "source": [
    "#### 2nd Random Forest Grid Search"
   ]
  },
  {
   "cell_type": "code",
   "execution_count": 81,
   "metadata": {},
   "outputs": [],
   "source": [
    "rf2_params = {\n",
    "            'rf__criterion': ['gini', 'entropy'],\n",
    "            'rf__n_estimators': [10, 15, 20, 25, 30],\n",
    "            'rf__min_samples_leaf': [2, 3, 4, 5],\n",
    "            'rf__min_samples_split': [2, 5, 10],\n",
    "            'rf__max_depth': [10, 15, 20, 25, 30, 35, 40],\n",
    "            'rf__bootstrap': [True, False]\n",
    "             }"
   ]
  },
  {
   "cell_type": "code",
   "execution_count": 82,
   "metadata": {},
   "outputs": [],
   "source": [
    "rf2_gs = GridSearchCV(rf_pipeline, param_grid=rf2_params, n_jobs=-4, verbose=3, cv=10)"
   ]
  },
  {
   "cell_type": "code",
   "execution_count": 83,
   "metadata": {
    "scrolled": false
   },
   "outputs": [
    {
     "name": "stdout",
     "output_type": "stream",
     "text": [
      "Fitting 10 folds for each of 1680 candidates, totalling 16800 fits\n"
     ]
    },
    {
     "name": "stderr",
     "output_type": "stream",
     "text": [
      "[Parallel(n_jobs=-4)]: Using backend LokyBackend with 7 concurrent workers.\n",
      "[Parallel(n_jobs=-4)]: Done  18 tasks      | elapsed:    1.0s\n",
      "[Parallel(n_jobs=-4)]: Done 186 tasks      | elapsed:    3.3s\n",
      "[Parallel(n_jobs=-4)]: Done 506 tasks      | elapsed:    7.2s\n",
      "[Parallel(n_jobs=-4)]: Done 954 tasks      | elapsed:   13.2s\n",
      "[Parallel(n_jobs=-4)]: Done 1530 tasks      | elapsed:   21.0s\n",
      "[Parallel(n_jobs=-4)]: Done 2234 tasks      | elapsed:   30.7s\n",
      "[Parallel(n_jobs=-4)]: Done 3066 tasks      | elapsed:   42.1s\n",
      "[Parallel(n_jobs=-4)]: Done 4026 tasks      | elapsed:   55.5s\n",
      "[Parallel(n_jobs=-4)]: Done 5114 tasks      | elapsed:  1.2min\n",
      "[Parallel(n_jobs=-4)]: Done 6330 tasks      | elapsed:  1.5min\n",
      "[Parallel(n_jobs=-4)]: Done 7674 tasks      | elapsed:  1.9min\n",
      "[Parallel(n_jobs=-4)]: Done 9146 tasks      | elapsed:  2.2min\n",
      "[Parallel(n_jobs=-4)]: Done 10746 tasks      | elapsed:  2.7min\n",
      "[Parallel(n_jobs=-4)]: Done 12474 tasks      | elapsed:  3.3min\n",
      "[Parallel(n_jobs=-4)]: Done 14330 tasks      | elapsed:  3.8min\n",
      "[Parallel(n_jobs=-4)]: Done 16314 tasks      | elapsed:  4.5min\n",
      "[Parallel(n_jobs=-4)]: Done 16800 out of 16800 | elapsed:  4.7min finished\n"
     ]
    },
    {
     "data": {
      "text/plain": [
       "GridSearchCV(cv=10,\n",
       "             estimator=Pipeline(steps=[('ct',\n",
       "                                        ColumnTransformer(transformers=[('subpipe_num',\n",
       "                                                                         Pipeline(steps=[('num',\n",
       "                                                                                          FunctionTransformer(func=<function get_numeric at 0x7fead03b5280>)),\n",
       "                                                                                         ('ss',\n",
       "                                                                                          StandardScaler())]),\n",
       "                                                                         ['account '\n",
       "                                                                          'length',\n",
       "                                                                          'area '\n",
       "                                                                          'code',\n",
       "                                                                          'number '\n",
       "                                                                          'vmail '\n",
       "                                                                          'messages',\n",
       "                                                                          'total '\n",
       "                                                                          'day '\n",
       "                                                                          'minutes',\n",
       "                                                                          'total '\n",
       "                                                                          'day '\n",
       "                                                                          'calls',\n",
       "                                                                          'total '\n",
       "                                                                          'day '\n",
       "                                                                          'charge',\n",
       "                                                                          'total '\n",
       "                                                                          'eve '\n",
       "                                                                          'minu...\n",
       "                                                                          'plan'])])),\n",
       "                                       ('sm',\n",
       "                                        SMOTE(random_state=42,\n",
       "                                              sampling_strategy=0.75)),\n",
       "                                       ('rf',\n",
       "                                        RandomForestClassifier(random_state=42))]),\n",
       "             n_jobs=-4,\n",
       "             param_grid={'rf__bootstrap': [True, False],\n",
       "                         'rf__criterion': ['gini', 'entropy'],\n",
       "                         'rf__max_depth': [10, 15, 20, 25, 30, 35, 40],\n",
       "                         'rf__min_samples_leaf': [2, 3, 4, 5],\n",
       "                         'rf__min_samples_split': [2, 5, 10],\n",
       "                         'rf__n_estimators': [10, 15, 20, 25, 30]},\n",
       "             verbose=3)"
      ]
     },
     "execution_count": 83,
     "metadata": {},
     "output_type": "execute_result"
    }
   ],
   "source": [
    "rf2_gs.fit(X_train, y_train)"
   ]
  },
  {
   "cell_type": "code",
   "execution_count": 84,
   "metadata": {},
   "outputs": [
    {
     "data": {
      "text/plain": [
       "{'rf__bootstrap': False,\n",
       " 'rf__criterion': 'entropy',\n",
       " 'rf__max_depth': 20,\n",
       " 'rf__min_samples_leaf': 2,\n",
       " 'rf__min_samples_split': 2,\n",
       " 'rf__n_estimators': 25}"
      ]
     },
     "execution_count": 84,
     "metadata": {},
     "output_type": "execute_result"
    }
   ],
   "source": [
    "rf2_gs.best_params_"
   ]
  },
  {
   "cell_type": "markdown",
   "metadata": {},
   "source": [
    "## RF Tuned"
   ]
  },
  {
   "cell_type": "code",
   "execution_count": 60,
   "metadata": {},
   "outputs": [],
   "source": [
    "rft_pipeline = ImPipeline(steps=[\n",
    "                                        ('ct', CT),\n",
    "                                        ('sm', sm),\n",
    "                                        ('rft', RandomForestClassifier(bootstrap= False,\n",
    "                                                                    max_depth=30,\n",
    "                                                                    min_samples_leaf=4,\n",
    "                                                                    min_samples_split=10,\n",
    "                                                                    n_estimators=20,\n",
    "                                                                    random_state=42))\n",
    "                                       ]\n",
    "                                )"
   ]
  },
  {
   "cell_type": "code",
   "execution_count": 61,
   "metadata": {},
   "outputs": [
    {
     "data": {
      "text/plain": [
       "Pipeline(steps=[('ct',\n",
       "                 ColumnTransformer(transformers=[('subpipe_num',\n",
       "                                                  Pipeline(steps=[('num',\n",
       "                                                                   FunctionTransformer(func=<function get_numeric at 0x7fedd81b9310>)),\n",
       "                                                                  ('ss',\n",
       "                                                                   StandardScaler())]),\n",
       "                                                  ['account length',\n",
       "                                                   'area code',\n",
       "                                                   'number vmail messages',\n",
       "                                                   'total day minutes',\n",
       "                                                   'total day calls',\n",
       "                                                   'total day charge',\n",
       "                                                   'total eve minutes',\n",
       "                                                   'total eve calls',\n",
       "                                                   'total eve charge',\n",
       "                                                   'total night minu...\n",
       "                                                                   OneHotEncoder(handle_unknown='ignore',\n",
       "                                                                                 sparse=False))]),\n",
       "                                                  ['state']),\n",
       "                                                 ('subpipe_ord',\n",
       "                                                  Pipeline(steps=[('ord',\n",
       "                                                                   OrdinalEncoder())]),\n",
       "                                                  ['international plan',\n",
       "                                                   'voice mail plan'])])),\n",
       "                ('sm', SMOTE(random_state=42, sampling_strategy=0.75)),\n",
       "                ('rft',\n",
       "                 RandomForestClassifier(bootstrap=False, max_depth=30,\n",
       "                                        min_samples_leaf=4,\n",
       "                                        min_samples_split=10, n_estimators=20,\n",
       "                                        random_state=42))])"
      ]
     },
     "execution_count": 61,
     "metadata": {},
     "output_type": "execute_result"
    }
   ],
   "source": [
    "rft_pipeline.fit(X_train, y_train)"
   ]
  },
  {
   "cell_type": "code",
   "execution_count": 62,
   "metadata": {},
   "outputs": [
    {
     "name": "stdout",
     "output_type": "stream",
     "text": [
      "              precision    recall  f1-score   support\n",
      "\n",
      "       False       1.00      1.00      1.00      1910\n",
      "        True       1.00      1.00      1.00       323\n",
      "\n",
      "    accuracy                           1.00      2233\n",
      "   macro avg       1.00      1.00      1.00      2233\n",
      "weighted avg       1.00      1.00      1.00      2233\n",
      "\n"
     ]
    }
   ],
   "source": [
    "rf_y_hat = rf_pipeline.predict(X_train)\n",
    "print(classification_report(y_train, rf_y_hat))"
   ]
  },
  {
   "cell_type": "code",
   "execution_count": 63,
   "metadata": {},
   "outputs": [
    {
     "data": {
      "image/png": "[encoded data removed]",
      "text/plain": [
       "<Figure size 432x288 with 2 Axes>"
      ]
     },
     "metadata": {
      "needs_background": "light"
     },
     "output_type": "display_data"
    }
   ],
   "source": [
    "plot_confusion_matrix(rft_pipeline, X_train, y_train)\n",
    "title = 'Random Forest Tuned'\n",
    "plt.title(title);"
   ]
  },
  {
   "cell_type": "code",
   "execution_count": 64,
   "metadata": {},
   "outputs": [
    {
     "name": "stdout",
     "output_type": "stream",
     "text": [
      "Mean f1 score:  {0.7705981178380934} .\n",
      "Median f1 score:  {0.783273131425396} .\n",
      "Standard Deviation in f1 score:  {0.067167064987285} .\n"
     ]
    }
   ],
   "source": [
    "cross_val(rft_pipeline, X_train, y_train)"
   ]
  },
  {
   "cell_type": "code",
   "execution_count": 190,
   "metadata": {
    "scrolled": false
   },
   "outputs": [
    {
     "data": {
      "image/png": "[encoded data removed]",
      "text/plain": [
       "<Figure size 720x720 with 1 Axes>"
      ]
     },
     "metadata": {
      "needs_background": "light"
     },
     "output_type": "display_data"
    }
   ],
   "source": [
    "rft_importances = get_feature_importance(rft_pipeline, 'rft', X_train, y_train)"
   ]
  },
  {
   "cell_type": "markdown",
   "metadata": {},
   "source": [
    "## Gradiant Boosted Classifier"
   ]
  },
  {
   "cell_type": "markdown",
   "metadata": {},
   "source": [
    "summary of rationale for use & performance"
   ]
  },
  {
   "cell_type": "code",
   "execution_count": 50,
   "metadata": {},
   "outputs": [],
   "source": [
    "gbc_pipeline = ImPipeline(steps=[\n",
    "                                        ('ct', CT),\n",
    "                                        ('sm', sm),\n",
    "                                        ('gbc', GradientBoostingClassifier())\n",
    "                                       ]\n",
    "                                )"
   ]
  },
  {
   "cell_type": "code",
   "execution_count": 51,
   "metadata": {},
   "outputs": [
    {
     "name": "stdout",
     "output_type": "stream",
     "text": [
      "Mean f1 score:  {0.7859687234765189} .\n",
      "Median f1 score:  {0.7732497387669801} .\n",
      "Standard Deviation in f1 score:  {0.054666165301894755} .\n"
     ]
    }
   ],
   "source": [
    "gbc_pipeline.fit(X_train, y_train)\n",
    "cross_val(gbc_pipeline, X_train, y_train)"
   ]
  },
  {
   "cell_type": "code",
   "execution_count": 56,
   "metadata": {},
   "outputs": [
    {
     "name": "stdout",
     "output_type": "stream",
     "text": [
      "              precision    recall  f1-score   support\n",
      "\n",
      "       False       0.97      0.99      0.98      1910\n",
      "        True       0.92      0.80      0.86       323\n",
      "\n",
      "    accuracy                           0.96      2233\n",
      "   macro avg       0.94      0.90      0.92      2233\n",
      "weighted avg       0.96      0.96      0.96      2233\n",
      "\n"
     ]
    }
   ],
   "source": [
    "gbc_y_hat = gbc_pipeline.predict(X_train)\n",
    "print(classification_report(y_train, gbc_y_hat))"
   ]
  },
  {
   "cell_type": "code",
   "execution_count": 191,
   "metadata": {},
   "outputs": [
    {
     "data": {
      "image/png": "[encoded data removed]",
      "text/plain": [
       "<Figure size 720x720 with 1 Axes>"
      ]
     },
     "metadata": {
      "needs_background": "light"
     },
     "output_type": "display_data"
    }
   ],
   "source": [
    "gbc_importances = get_feature_importance(gbc_pipeline, 'gbc', X_train, y_train)"
   ]
  },
  {
   "cell_type": "markdown",
   "metadata": {},
   "source": [
    "### GridSearch--Gradiant Boosted Classifier"
   ]
  },
  {
   "cell_type": "code",
   "execution_count": 85,
   "metadata": {
    "scrolled": false
   },
   "outputs": [
    {
     "name": "stdout",
     "output_type": "stream",
     "text": [
      "Current Parameters:\n",
      "\n",
      "{'ccp_alpha': 0.0,\n",
      " 'criterion': 'friedman_mse',\n",
      " 'init': None,\n",
      " 'learning_rate': 0.1,\n",
      " 'loss': 'deviance',\n",
      " 'max_depth': 3,\n",
      " 'max_features': None,\n",
      " 'max_leaf_nodes': None,\n",
      " 'min_impurity_decrease': 0.0,\n",
      " 'min_impurity_split': None,\n",
      " 'min_samples_leaf': 1,\n",
      " 'min_samples_split': 2,\n",
      " 'min_weight_fraction_leaf': 0.0,\n",
      " 'n_estimators': 100,\n",
      " 'n_iter_no_change': None,\n",
      " 'presort': 'deprecated',\n",
      " 'random_state': None,\n",
      " 'subsample': 1.0,\n",
      " 'tol': 0.0001,\n",
      " 'validation_fraction': 0.1,\n",
      " 'verbose': 0,\n",
      " 'warm_start': False}\n"
     ]
    }
   ],
   "source": [
    "# Print out original parameters of rf classifier in gbc_pipeline\n",
    "print('Current Parameters:\\n')\n",
    "pprint(gbc_pipeline.named_steps['gbc'].get_params())"
   ]
  },
  {
   "cell_type": "code",
   "execution_count": 101,
   "metadata": {},
   "outputs": [],
   "source": [
    "# Define parameter grid to search over\n",
    "gbc_params = {\n",
    "            'gbc__n_estimators': [10, 20, 30],\n",
    "            'gbc__min_samples_leaf': [1, 2, 4, 6],\n",
    "            'gbc__min_samples_split': [2, 3, 4, 5, 10],\n",
    "            'gbc__max_depth': [10, 20, 30, 40, 50, 60, 70, 80, 90, 100],\n",
    "            'gbc__learning_rate': [0.05, 0.1, 0.2, 0.3]\n",
    "             }\n",
    "\n",
    "# Instantiate grid search object using parameters defined above.\n",
    "gbc_gs = GridSearchCV(gbc_pipeline, param_grid=gbc_params, n_jobs=-4, verbose=3, cv=10)"
   ]
  },
  {
   "cell_type": "code",
   "execution_count": 103,
   "metadata": {
    "scrolled": false
   },
   "outputs": [
    {
     "name": "stdout",
     "output_type": "stream",
     "text": [
      "Fitting 10 folds for each of 2400 candidates, totalling 24000 fits\n"
     ]
    },
    {
     "name": "stderr",
     "output_type": "stream",
     "text": [
      "[Parallel(n_jobs=-4)]: Using backend LokyBackend with 7 concurrent workers.\n",
      "[Parallel(n_jobs=-4)]: Done  18 tasks      | elapsed:    2.2s\n",
      "[Parallel(n_jobs=-4)]: Done 114 tasks      | elapsed:   10.1s\n",
      "[Parallel(n_jobs=-4)]: Done 274 tasks      | elapsed:   23.0s\n",
      "[Parallel(n_jobs=-4)]: Done 498 tasks      | elapsed:   40.7s\n",
      "[Parallel(n_jobs=-4)]: Done 786 tasks      | elapsed:  1.2min\n",
      "[Parallel(n_jobs=-4)]: Done 1138 tasks      | elapsed:  1.9min\n",
      "[Parallel(n_jobs=-4)]: Done 1554 tasks      | elapsed:  2.9min\n",
      "[Parallel(n_jobs=-4)]: Done 2034 tasks      | elapsed:  4.0min\n",
      "[Parallel(n_jobs=-4)]: Done 2578 tasks      | elapsed:  5.4min\n",
      "[Parallel(n_jobs=-4)]: Done 3186 tasks      | elapsed:  7.0min\n",
      "[Parallel(n_jobs=-4)]: Done 3858 tasks      | elapsed:  8.8min\n",
      "[Parallel(n_jobs=-4)]: Done 4594 tasks      | elapsed: 10.7min\n",
      "[Parallel(n_jobs=-4)]: Done 5394 tasks      | elapsed: 12.8min\n",
      "[Parallel(n_jobs=-4)]: Done 6258 tasks      | elapsed: 14.7min\n",
      "[Parallel(n_jobs=-4)]: Done 7186 tasks      | elapsed: 16.4min\n",
      "[Parallel(n_jobs=-4)]: Done 8178 tasks      | elapsed: 19.0min\n",
      "[Parallel(n_jobs=-4)]: Done 9234 tasks      | elapsed: 21.8min\n",
      "[Parallel(n_jobs=-4)]: Done 10354 tasks      | elapsed: 24.8min\n",
      "[Parallel(n_jobs=-4)]: Done 11538 tasks      | elapsed: 28.1min\n",
      "[Parallel(n_jobs=-4)]: Done 12786 tasks      | elapsed: 30.6min\n",
      "[Parallel(n_jobs=-4)]: Done 14098 tasks      | elapsed: 33.9min\n",
      "[Parallel(n_jobs=-4)]: Done 15474 tasks      | elapsed: 37.7min\n",
      "[Parallel(n_jobs=-4)]: Done 16914 tasks      | elapsed: 41.7min\n",
      "[Parallel(n_jobs=-4)]: Done 18418 tasks      | elapsed: 45.5min\n",
      "[Parallel(n_jobs=-4)]: Done 19986 tasks      | elapsed: 49.1min\n",
      "[Parallel(n_jobs=-4)]: Done 21618 tasks      | elapsed: 53.8min\n",
      "[Parallel(n_jobs=-4)]: Done 23314 tasks      | elapsed: 58.8min\n",
      "[Parallel(n_jobs=-4)]: Done 24000 out of 24000 | elapsed: 60.8min finished\n"
     ]
    },
    {
     "data": {
      "text/plain": [
       "GridSearchCV(cv=10,\n",
       "             estimator=Pipeline(steps=[('ct',\n",
       "                                        ColumnTransformer(transformers=[('subpipe_num',\n",
       "                                                                         Pipeline(steps=[('num',\n",
       "                                                                                          FunctionTransformer(func=<function get_numeric at 0x7fb1cbebcb80>)),\n",
       "                                                                                         ('ss',\n",
       "                                                                                          StandardScaler())]),\n",
       "                                                                         ['account '\n",
       "                                                                          'length',\n",
       "                                                                          'area '\n",
       "                                                                          'code',\n",
       "                                                                          'number '\n",
       "                                                                          'vmail '\n",
       "                                                                          'messages',\n",
       "                                                                          'total '\n",
       "                                                                          'day '\n",
       "                                                                          'minutes',\n",
       "                                                                          'total '\n",
       "                                                                          'day '\n",
       "                                                                          'calls',\n",
       "                                                                          'total '\n",
       "                                                                          'day '\n",
       "                                                                          'charge',\n",
       "                                                                          'total '\n",
       "                                                                          'eve '\n",
       "                                                                          'minu...\n",
       "                                                                          'plan',\n",
       "                                                                          'voice '\n",
       "                                                                          'mail '\n",
       "                                                                          'plan'])])),\n",
       "                                       ('sm',\n",
       "                                        SMOTE(random_state=42,\n",
       "                                              sampling_strategy=0.75)),\n",
       "                                       ('gbc', GradientBoostingClassifier())]),\n",
       "             n_jobs=-4,\n",
       "             param_grid={'gbc__learning_rate': [0.05, 0.1, 0.2, 0.3],\n",
       "                         'gbc__max_depth': [10, 20, 30, 40, 50, 60, 70, 80, 90,\n",
       "                                            100],\n",
       "                         'gbc__min_samples_leaf': [1, 2, 4, 6],\n",
       "                         'gbc__min_samples_split': [2, 3, 4, 5, 10],\n",
       "                         'gbc__n_estimators': [10, 20, 30]},\n",
       "             verbose=3)"
      ]
     },
     "execution_count": 103,
     "metadata": {},
     "output_type": "execute_result"
    }
   ],
   "source": [
    "# Fit the grid search object on training data\n",
    "# gbc_gs.fit(X_train, y_train)"
   ]
  },
  {
   "cell_type": "code",
   "execution_count": 104,
   "metadata": {},
   "outputs": [
    {
     "data": {
      "text/plain": [
       "{'gbc__learning_rate': 0.3,\n",
       " 'gbc__max_depth': 10,\n",
       " 'gbc__min_samples_leaf': 4,\n",
       " 'gbc__min_samples_split': 4,\n",
       " 'gbc__n_estimators': 30}"
      ]
     },
     "execution_count": 104,
     "metadata": {},
     "output_type": "execute_result"
    }
   ],
   "source": [
    "# Get best parameters from first grid search\n",
    "gbc_gs.best_params_"
   ]
  },
  {
   "cell_type": "code",
   "execution_count": null,
   "metadata": {},
   "outputs": [],
   "source": [
    "# Trial Run 1:\n",
    "# {'gbc__learning_rate': 0.3,\n",
    "#  'gbc__max_depth': 10,\n",
    "#  'gbc__min_samples_leaf': 4,\n",
    "#  'gbc__min_samples_split': 4,\n",
    "#  'gbc__n_estimators': 30}"
   ]
  },
  {
   "cell_type": "markdown",
   "metadata": {},
   "source": [
    "## GBC First Tune"
   ]
  },
  {
   "cell_type": "markdown",
   "metadata": {},
   "source": [
    "Using the best parameters identified by our grid search, we re-ran the gradient boosted classifer on the training data. Results were slightly improved as the f1 score jumped by 3 percentage points, indicating that the model is working slightly better for our intended purposes."
   ]
  },
  {
   "cell_type": "code",
   "execution_count": 239,
   "metadata": {},
   "outputs": [],
   "source": [
    "gbc_tuned_pipeline = ImPipeline(steps=[\n",
    "                                        ('ct', CT),\n",
    "                                        ('sm', sm),\n",
    "                                        ('gbct', GradientBoostingClassifier(learning_rate=0.3, \n",
    "                                                                           max_depth=10,\n",
    "                                                                           min_samples_leaf=4,\n",
    "                                                                           min_samples_split=4,\n",
    "                                                                           n_estimators=30,\n",
    "                                                                           random_state=42))]\n",
    "                                )"
   ]
  },
  {
   "cell_type": "code",
   "execution_count": 240,
   "metadata": {
    "scrolled": false
   },
   "outputs": [
    {
     "name": "stdout",
     "output_type": "stream",
     "text": [
      "Mean f1 score:  {0.8254681464238857} .\n",
      "Median f1 score:  {0.8412298387096775} .\n",
      "Standard Deviation in f1 score:  {0.04023710850673339} .\n"
     ]
    }
   ],
   "source": [
    "gbc_tuned_pipeline.fit(X_train, y_train)\n",
    "cross_val(gbc_tuned_pipeline, X_train, y_train)"
   ]
  },
  {
   "cell_type": "code",
   "execution_count": 241,
   "metadata": {},
   "outputs": [
    {
     "name": "stdout",
     "output_type": "stream",
     "text": [
      "              precision    recall  f1-score   support\n",
      "\n",
      "       False       1.00      1.00      1.00      1910\n",
      "        True       1.00      1.00      1.00       323\n",
      "\n",
      "    accuracy                           1.00      2233\n",
      "   macro avg       1.00      1.00      1.00      2233\n",
      "weighted avg       1.00      1.00      1.00      2233\n",
      "\n"
     ]
    }
   ],
   "source": [
    "gbc_tuned_y_hat = gbc_tuned_pipeline.predict(X_train)\n",
    "print(classification_report(y_train, gbc_tuned_y_hat))"
   ]
  },
  {
   "cell_type": "code",
   "execution_count": 242,
   "metadata": {},
   "outputs": [
    {
     "data": {
      "image/png": "[encoded data removed]",
      "text/plain": [
       "<Figure size 720x720 with 1 Axes>"
      ]
     },
     "metadata": {
      "needs_background": "light"
     },
     "output_type": "display_data"
    }
   ],
   "source": [
    "# Plot the 10 most important features\n",
    "get_feature_importance(gbc_tuned_pipeline, 'gbct', X_train, y_train)"
   ]
  },
  {
   "cell_type": "markdown",
   "metadata": {},
   "source": [
    "## Second Grid Search - GBC"
   ]
  },
  {
   "cell_type": "markdown",
   "metadata": {},
   "source": [
    "After our first grid search, the gradient boosted classifier performed slightly better on the training data. We then attempted a second grid search based on a range of hyperparameters narrowed around the best parameters from the previous grid search.\n",
    "\n",
    "The hyperparameters used in the second grid search were as follows:"
   ]
  },
  {
   "cell_type": "code",
   "execution_count": null,
   "metadata": {},
   "outputs": [],
   "source": [
    "gbc_params2 = {\n",
    "            'gbc__n_estimators': [25, 50, 75, 100],\n",
    "            'gbc__min_samples_leaf': [2, 3, 4, 5],\n",
    "            'gbc__min_samples_split': [3, 4, 5, 6],\n",
    "            'gbc__max_depth': [5, 10, 15, 20],\n",
    "            'gbc__learning_rate': [0.2, 0.3, 0.4, 0.5]\n",
    "             }"
   ]
  },
  {
   "cell_type": "markdown",
   "metadata": {},
   "source": [
    "The second grid search found best parameters of:\n",
    "\n",
    "- learning_rate: 0.3\n",
    "- max_depth: 15\n",
    "- min_samples_leaf: 5\n",
    "- min_samples_split: 6\n",
    "- n_estimators: 100"
   ]
  },
  {
   "cell_type": "markdown",
   "metadata": {},
   "source": [
    "## GBC Second Tune"
   ]
  },
  {
   "cell_type": "markdown",
   "metadata": {},
   "source": [
    "We then ran the gradient boosted classfier a third time using the parameters identified by our second grid search."
   ]
  },
  {
   "cell_type": "code",
   "execution_count": 243,
   "metadata": {},
   "outputs": [],
   "source": [
    "gbc_pipeline2 = ImPipeline(steps=[\n",
    "                                  ('ct', CT),\n",
    "                                  ('sm', sm),\n",
    "                                  ('gbc', GradientBoostingClassifier(learning_rate=0.3,\n",
    "                                                                     max_depth=15,\n",
    "                                                                     min_samples_leaf=5,\n",
    "                                                                     min_samples_split=6,\n",
    "                                                                     n_estimators=100,\n",
    "                                                                     random_state=42))\n",
    "                                 ]\n",
    "                          )"
   ]
  },
  {
   "cell_type": "code",
   "execution_count": 244,
   "metadata": {},
   "outputs": [
    {
     "data": {
      "text/plain": [
       "Pipeline(steps=[('ct',\n",
       "                 ColumnTransformer(transformers=[('subpipe_num',\n",
       "                                                  Pipeline(steps=[('num',\n",
       "                                                                   FunctionTransformer(func=<function get_numeric at 0x7fee492140d0>)),\n",
       "                                                                  ('ss',\n",
       "                                                                   StandardScaler())]),\n",
       "                                                  ['account length',\n",
       "                                                   'area code',\n",
       "                                                   'number vmail messages',\n",
       "                                                   'total day minutes',\n",
       "                                                   'total day calls',\n",
       "                                                   'total day charge',\n",
       "                                                   'total eve minutes',\n",
       "                                                   'total eve calls',\n",
       "                                                   'total eve charge',\n",
       "                                                   'total night minu...\n",
       "                                                                   FunctionTransformer(func=<function get_categorical at 0x7fee49214670>)),\n",
       "                                                                  ('ohe',\n",
       "                                                                   OneHotEncoder(handle_unknown='ignore',\n",
       "                                                                                 sparse=False))]),\n",
       "                                                  ['state']),\n",
       "                                                 ('subpipe_ord',\n",
       "                                                  Pipeline(steps=[('ord',\n",
       "                                                                   OrdinalEncoder())]),\n",
       "                                                  ['international plan',\n",
       "                                                   'voice mail plan'])])),\n",
       "                ('sm', SMOTE(random_state=42, sampling_strategy=0.75)),\n",
       "                ('gbc',\n",
       "                 GradientBoostingClassifier(learning_rate=0.3, max_depth=15,\n",
       "                                            min_samples_leaf=5,\n",
       "                                            min_samples_split=6,\n",
       "                                            random_state=42))])"
      ]
     },
     "execution_count": 244,
     "metadata": {},
     "output_type": "execute_result"
    }
   ],
   "source": [
    "gbc_pipeline2.fit(X_train, y_train)"
   ]
  },
  {
   "cell_type": "code",
   "execution_count": 245,
   "metadata": {},
   "outputs": [
    {
     "name": "stdout",
     "output_type": "stream",
     "text": [
      "              precision    recall  f1-score   support\n",
      "\n",
      "       False       1.00      1.00      1.00      1910\n",
      "        True       1.00      1.00      1.00       323\n",
      "\n",
      "    accuracy                           1.00      2233\n",
      "   macro avg       1.00      1.00      1.00      2233\n",
      "weighted avg       1.00      1.00      1.00      2233\n",
      "\n"
     ]
    }
   ],
   "source": [
    "gbc2_y_hat = gbc_pipeline2.predict(X_train)\n",
    "print(classification_report(y_train, gbc2_y_hat))"
   ]
  },
  {
   "cell_type": "code",
   "execution_count": 246,
   "metadata": {},
   "outputs": [
    {
     "name": "stdout",
     "output_type": "stream",
     "text": [
      "Mean f1 score:  {0.8294876415632894} .\n",
      "Median f1 score:  {0.8331479421579533} .\n",
      "Standard Deviation in f1 score:  {0.03547330453136767} .\n"
     ]
    }
   ],
   "source": [
    "cross_val(gbc_pipeline2, X_train, y_train)"
   ]
  },
  {
   "cell_type": "code",
   "execution_count": 247,
   "metadata": {},
   "outputs": [
    {
     "data": {
      "image/png": "[encoded data removed]",
      "text/plain": [
       "<Figure size 720x720 with 1 Axes>"
      ]
     },
     "metadata": {
      "needs_background": "light"
     },
     "output_type": "display_data"
    }
   ],
   "source": [
    "get_feature_importance(gbc_pipeline2, 'gbc', X_train, y_train)"
   ]
  },
  {
   "cell_type": "markdown",
   "metadata": {},
   "source": [
    "## Third Grid Search - GBC"
   ]
  },
  {
   "cell_type": "markdown",
   "metadata": {},
   "source": []
  },
  {
   "cell_type": "code",
   "execution_count": null,
   "metadata": {},
   "outputs": [],
   "source": [
    "gbc_params3 = {\n",
    "            'gbc__n_estimators': [100, 125, 150, 175, 200],\n",
    "            'gbc__min_samples_leaf': [4, 5, 6, 7, 8],\n",
    "            'gbc__min_samples_split': [5, 6, 7, 8, 9],\n",
    "            'gbc__max_depth': [10, 15, 20],\n",
    "            'gbc__learning_rate': [0.2, 0.3, 0.4, 0.5]\n",
    "             }"
   ]
  },
  {
   "cell_type": "code",
   "execution_count": null,
   "metadata": {},
   "outputs": [],
   "source": [
    "{'gbc__learning_rate': 0.3,\n",
    " 'gbc__max_depth': 15,\n",
    " 'gbc__min_samples_leaf': 6,\n",
    " 'gbc__min_samples_split': 5,\n",
    " 'gbc__n_estimators': 200}"
   ]
  },
  {
   "cell_type": "markdown",
   "metadata": {},
   "source": [
    "## GBC Third Tune"
   ]
  },
  {
   "cell_type": "markdown",
   "metadata": {},
   "source": []
  },
  {
   "cell_type": "code",
   "execution_count": 253,
   "metadata": {},
   "outputs": [],
   "source": [
    "gbc_pipeline3 = ImPipeline(steps=[\n",
    "                                        ('ct', CT),\n",
    "                                        ('sm', sm),\n",
    "                                        ('gbc', GradientBoostingClassifier(learning_rate=0.2,\n",
    "                                                                           max_depth=15,\n",
    "                                                                           min_samples_leaf=6,\n",
    "                                                                           min_samples_split=5,\n",
    "                                                                           n_estimators=200,\n",
    "                                                                           random_state=42))])"
   ]
  },
  {
   "cell_type": "code",
   "execution_count": 254,
   "metadata": {
    "scrolled": false
   },
   "outputs": [
    {
     "data": {
      "text/plain": [
       "Pipeline(steps=[('ct',\n",
       "                 ColumnTransformer(transformers=[('subpipe_num',\n",
       "                                                  Pipeline(steps=[('num',\n",
       "                                                                   FunctionTransformer(func=<function get_numeric at 0x7fee492140d0>)),\n",
       "                                                                  ('ss',\n",
       "                                                                   StandardScaler())]),\n",
       "                                                  ['account length',\n",
       "                                                   'area code',\n",
       "                                                   'number vmail messages',\n",
       "                                                   'total day minutes',\n",
       "                                                   'total day calls',\n",
       "                                                   'total day charge',\n",
       "                                                   'total eve minutes',\n",
       "                                                   'total eve calls',\n",
       "                                                   'total eve charge',\n",
       "                                                   'total night minu...\n",
       "                                                                   OneHotEncoder(handle_unknown='ignore',\n",
       "                                                                                 sparse=False))]),\n",
       "                                                  ['state']),\n",
       "                                                 ('subpipe_ord',\n",
       "                                                  Pipeline(steps=[('ord',\n",
       "                                                                   OrdinalEncoder())]),\n",
       "                                                  ['international plan',\n",
       "                                                   'voice mail plan'])])),\n",
       "                ('sm', SMOTE(random_state=42, sampling_strategy=0.75)),\n",
       "                ('gbc',\n",
       "                 GradientBoostingClassifier(learning_rate=0.2, max_depth=15,\n",
       "                                            min_samples_leaf=6,\n",
       "                                            min_samples_split=5,\n",
       "                                            n_estimators=200,\n",
       "                                            random_state=42))])"
      ]
     },
     "execution_count": 254,
     "metadata": {},
     "output_type": "execute_result"
    }
   ],
   "source": [
    "gbc_pipeline3.fit(X_train, y_train)"
   ]
  },
  {
   "cell_type": "code",
   "execution_count": 255,
   "metadata": {},
   "outputs": [
    {
     "name": "stdout",
     "output_type": "stream",
     "text": [
      "              precision    recall  f1-score   support\n",
      "\n",
      "       False       1.00      1.00      1.00      1910\n",
      "        True       1.00      1.00      1.00       323\n",
      "\n",
      "    accuracy                           1.00      2233\n",
      "   macro avg       1.00      1.00      1.00      2233\n",
      "weighted avg       1.00      1.00      1.00      2233\n",
      "\n"
     ]
    }
   ],
   "source": [
    "gbc3_y_hat = gbc_pipeline3.predict(X_train)\n",
    "print(classification_report(y_train, gbc3_y_hat))"
   ]
  },
  {
   "cell_type": "code",
   "execution_count": 256,
   "metadata": {},
   "outputs": [
    {
     "name": "stdout",
     "output_type": "stream",
     "text": [
      "Mean f1 score:  {0.8354061878835018} .\n",
      "Median f1 score:  {0.8452380952380952} .\n",
      "Standard Deviation in f1 score:  {0.040939650749439484} .\n"
     ]
    }
   ],
   "source": [
    "cross_val(gbc_pipeline3, X_train, y_train)"
   ]
  },
  {
   "cell_type": "code",
   "execution_count": 257,
   "metadata": {},
   "outputs": [
    {
     "data": {
      "image/png": "[encoded data removed]",
      "text/plain": [
       "<Figure size 720x720 with 1 Axes>"
      ]
     },
     "metadata": {
      "needs_background": "light"
     },
     "output_type": "display_data"
    }
   ],
   "source": [
    "get_feature_importance(gbc_pipeline3, 'gbc', X_train, y_train)"
   ]
  },
  {
   "cell_type": "markdown",
   "metadata": {},
   "source": [
    "## Final Model & Evaluation"
   ]
  },
  {
   "cell_type": "markdown",
   "metadata": {},
   "source": []
  },
  {
   "cell_type": "code",
   "execution_count": 258,
   "metadata": {},
   "outputs": [
    {
     "name": "stdout",
     "output_type": "stream",
     "text": [
      "              precision    recall  f1-score   support\n",
      "\n",
      "       False       0.97      0.99      0.98       940\n",
      "        True       0.93      0.80      0.86       160\n",
      "\n",
      "    accuracy                           0.96      1100\n",
      "   macro avg       0.95      0.89      0.92      1100\n",
      "weighted avg       0.96      0.96      0.96      1100\n",
      "\n"
     ]
    }
   ],
   "source": [
    "gbc_final_yhat = gbc_pipeline3.predict(X_test)\n",
    "print(classification_report(y_test, gbc_final_yhat))"
   ]
  },
  {
   "cell_type": "code",
   "execution_count": 259,
   "metadata": {},
   "outputs": [
    {
     "name": "stdout",
     "output_type": "stream",
     "text": [
      "Mean f1 score:  {0.7992194911132621} .\n",
      "Median f1 score:  {0.7867965367965368} .\n",
      "Standard Deviation in f1 score:  {0.03879221419129113} .\n"
     ]
    }
   ],
   "source": [
    "cross_val(gbc_pipeline3, X_test, y_test)"
   ]
  },
  {
   "cell_type": "code",
   "execution_count": null,
   "metadata": {},
   "outputs": [],
   "source": [
    "# Final_model = grid_searched_pipeline.best_estimator_"
   ]
  },
  {
   "cell_type": "markdown",
   "metadata": {},
   "source": [
    "# Conclusion & Next Steps"
   ]
  },
  {
   "cell_type": "markdown",
   "metadata": {},
   "source": []
  },
  {
   "cell_type": "markdown",
   "metadata": {},
   "source": [
    "# Recommendations"
   ]
  },
  {
   "cell_type": "markdown",
   "metadata": {},
   "source": []
  }
 ],
 "metadata": {
  "kernelspec": {
   "display_name": "Python (learn-env)",
   "language": "python",
   "name": "learn-env"
  },
  "language_info": {
   "codemirror_mode": {
    "name": "ipython",
    "version": 3
   },
   "file_extension": ".py",
   "mimetype": "text/x-python",
   "name": "python",
   "nbconvert_exporter": "python",
   "pygments_lexer": "ipython3",
   "version": "3.8.5"
  }
 },
 "nbformat": 4,
 "nbformat_minor": 4
}
